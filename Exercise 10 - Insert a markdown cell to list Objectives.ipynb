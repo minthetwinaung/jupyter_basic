{
 "cells": [
  {
   "cell_type": "markdown",
   "id": "a798240c-9d9a-4318-b6ad-e991b9e08e62",
   "metadata": {},
   "source": [
    "**Objectives:**\n",
    "\n",
    "- List popular languages for Data Science  \n",
    "- Demonstrate arithmetic expressions in Python  \n",
    "- Convert minutes to hours using Python  \n",
    "- Understand how to create and format Markdown cells  \n",
    "- Learn how to execute and interpret code cells in Jupyter Notebook"
   ]
  },
  {
   "cell_type": "code",
   "execution_count": null,
   "id": "1a6eaeca-c826-48d9-911a-29f727fa5f23",
   "metadata": {},
   "outputs": [],
   "source": []
  }
 ],
 "metadata": {
  "kernelspec": {
   "display_name": "Python 3 (ipykernel)",
   "language": "python",
   "name": "python3"
  },
  "language_info": {
   "codemirror_mode": {
    "name": "ipython",
    "version": 3
   },
   "file_extension": ".py",
   "mimetype": "text/x-python",
   "name": "python",
   "nbconvert_exporter": "python",
   "pygments_lexer": "ipython3",
   "version": "3.13.7"
  }
 },
 "nbformat": 4,
 "nbformat_minor": 5
}
