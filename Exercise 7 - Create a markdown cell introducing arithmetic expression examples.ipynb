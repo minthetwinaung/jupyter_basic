{
 "cells": [
  {
   "cell_type": "markdown",
   "id": "a0feb9e7-af86-47ee-871f-dd232547c76e",
   "metadata": {},
   "source": [
    "### Below are a few examples of evaluating arithmetic expressions in Python."
   ]
  },
  {
   "cell_type": "code",
   "execution_count": 5,
   "id": "999b825c-eb9e-4d18-88d7-278bd6da2d2c",
   "metadata": {},
   "outputs": [
    {
     "name": "stdout",
     "output_type": "stream",
     "text": [
      "Addition (10 + 5) = 15\n",
      "Subtraction (10 - 3) = 7\n",
      "Multiplication (7 * 6) = 42\n",
      "Division (20 / 4) = 5.0\n",
      "Floor Division (22 // 7) = 3\n",
      "Modulus (22 % 7) = 1\n",
      "Exponentiation (3 ** 4) = 81\n"
     ]
    }
   ],
   "source": [
    "# Addition\n",
    "add_result = 10 + 5\n",
    "print(\"Addition (10 + 5) =\", add_result)\n",
    "\n",
    "# Subtraction\n",
    "sub_result = 10 - 3\n",
    "print(\"Subtraction (10 - 3) =\", sub_result)\n",
    "\n",
    "# Multiplication\n",
    "mul_result = 7 * 6\n",
    "print(\"Multiplication (7 * 6) =\", mul_result)\n",
    "\n",
    "# Division\n",
    "div_result = 20 / 4\n",
    "print(\"Division (20 / 4) =\", div_result)\n",
    "\n",
    "# Floor Division\n",
    "floor_div_result = 22 // 7\n",
    "print(\"Floor Division (22 // 7) =\", floor_div_result)\n",
    "\n",
    "# Modulus\n",
    "mod_result = 22 % 7\n",
    "print(\"Modulus (22 % 7) =\", mod_result)\n",
    "\n",
    "# Exponentiation\n",
    "exp_result = 3 ** 4\n",
    "print(\"Exponentiation (3 ** 4) =\", exp_result)\n"
   ]
  },
  {
   "cell_type": "code",
   "execution_count": null,
   "id": "73a8d394-6b64-461b-9348-39b12ef6f48b",
   "metadata": {},
   "outputs": [],
   "source": []
  }
 ],
 "metadata": {
  "kernelspec": {
   "display_name": "Python 3 (ipykernel)",
   "language": "python",
   "name": "python3"
  },
  "language_info": {
   "codemirror_mode": {
    "name": "ipython",
    "version": 3
   },
   "file_extension": ".py",
   "mimetype": "text/x-python",
   "name": "python",
   "nbconvert_exporter": "python",
   "pygments_lexer": "ipython3",
   "version": "3.13.7"
  }
 },
 "nbformat": 4,
 "nbformat_minor": 5
}
